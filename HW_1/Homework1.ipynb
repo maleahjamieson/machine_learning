{
  "nbformat": 4,
  "nbformat_minor": 0,
  "metadata": {
    "colab": {
      "name": "Homework1.ipynb",
      "provenance": [],
      "collapsed_sections": []
    },
    "kernelspec": {
      "name": "python3",
      "display_name": "Python 3"
    }
  },
  "cells": [
    {
      "cell_type": "markdown",
      "metadata": {
        "id": "cgb-svM3PN15",
        "colab_type": "text"
      },
      "source": [
        "Problem 2:\n",
        "Inside a colab notebook implement a **Python function multiply_matrices** that **takes as input a list of numpy arrays and outputs their product.** It should **raise a custom exception if there is a pair of incompatible matrices.** The exception message should **provide information about which pair of matrices is bad.** Make sure that you follow the style guide for Python. Also use simple markup for formatting your notebook and include a simple description of what your program does inside a text cell. You should also use some simple Latex commands, for instance, when explaining what it means for two matrices to be compatible.\n",
        "\n",
        "Make this notebook editable (so the TAs can directly put comments in the notebook), obtain a sharable link, enter it in Webcourses, and also save this notebook to your GitHub repo inside the folder called HW_1."
      ]
    },
    {
      "cell_type": "markdown",
      "metadata": {
        "id": "1k6jAqO5PCR7",
        "colab_type": "text"
      },
      "source": [
        "\n",
        "\n",
        "---\n",
        "\n"
      ]
    },
    {
      "cell_type": "markdown",
      "metadata": {
        "id": "8VvsfiXZQCx2",
        "colab_type": "text"
      },
      "source": [
        "##Function Explanation\n",
        "The **multiply_matrices** function takes a list of numpy arrays as input. It then checks the dimensions.\n",
        "If the list only has 1 matrix, I attempt to multiply it by itself.\n",
        "If the list has 2+ arrays, I multiply them all together, in the order given, for 1 final product."
      ]
    },
    {
      "cell_type": "code",
      "metadata": {
        "id": "PhUgl_EPOI35",
        "colab_type": "code",
        "colab": {}
      },
      "source": [
        "import numpy as np\n",
        "\n",
        "class Error(Exception):\n",
        "  \"\"\"baseline for other errors\"\"\"\n",
        "\n",
        "# multiplication error due to dimension\n",
        "class MultError(Error):\n",
        "  def __init__(self, message):\n",
        "    self.message = \"These cannot be multiplied due to dimension:\\n\" + message + \"\\n\"\n",
        "\n",
        "# empty list error\n",
        "class EmptyError(Error):\n",
        "  def __init__(self, message):\n",
        "    self.message = message\n",
        "\n",
        "# function to multiply matrices\n",
        "def multiply_matrices(li):\n",
        "  try:\n",
        "    if len(li) == 0:\n",
        "      raise EmptyError(\"Hold up, that list is totally empty!\\n\")\n",
        "  except EmptyError as e:\n",
        "    print(e.message)\n",
        "  else:\n",
        "    if(len(li)) == 1:\n",
        "      li.append(li[0])\n",
        "    for i in range(len(li)-1):\n",
        "      try:\n",
        "        if i == 0:\n",
        "          a = li[i]\n",
        "          b = li[i+1]\n",
        "        else:\n",
        "          a = lastProd\n",
        "          b = li[i+1]\n",
        "        if a.shape[1] != b.shape[0]:\n",
        "          raise MultError(str(a) + \"\\n\" + str(b))\n",
        "      except MultError as e:\n",
        "        print(e.message)\n",
        "      else:\n",
        "        lastProd = np.matmul(a, b)\n",
        "        print(\"Product: \\n\" + str(lastProd))\n",
        "        print()"
      ],
      "execution_count": 0,
      "outputs": []
    },
    {
      "cell_type": "markdown",
      "metadata": {
        "id": "knnndSexQbAw",
        "colab_type": "text"
      },
      "source": [
        "##Multiplying the Matrices\n",
        "The following example is a list of matrices that call be multiplied together (in the order given) to 1 single product matrix."
      ]
    },
    {
      "cell_type": "code",
      "metadata": {
        "id": "1xbVIXt43t7R",
        "colab_type": "code",
        "outputId": "b623c82b-340a-4df2-c4dc-5369fbbc4f7e",
        "colab": {
          "base_uri": "https://localhost:8080/",
          "height": 170
        }
      },
      "source": [
        "#input the list\n",
        "li = []\n",
        "li.append(np.full((1,2),2))\n",
        "li.append(np.full((2,3),3))\n",
        "li.append(np.full((3,4),4))\n",
        "li.append(np.full((4,5),5))\n",
        "\n",
        "#call function to test multiplication\n",
        "multiply_matrices(li)"
      ],
      "execution_count": 0,
      "outputs": [
        {
          "output_type": "stream",
          "text": [
            "Product: \n",
            "[[12 12 12]]\n",
            "\n",
            "Product: \n",
            "[[144 144 144 144]]\n",
            "\n",
            "Product: \n",
            "[[2880 2880 2880 2880 2880]]\n",
            "\n"
          ],
          "name": "stdout"
        }
      ]
    },
    {
      "cell_type": "markdown",
      "metadata": {
        "id": "qaTHlY_2Q9JX",
        "colab_type": "text"
      },
      "source": [
        "##Empty List Exception\n",
        "We cannot multiply an empty list of matrices, so EmptyError is raised."
      ]
    },
    {
      "cell_type": "code",
      "metadata": {
        "id": "Jz3AlPZLPiao",
        "colab_type": "code",
        "outputId": "5a8b4865-bf16-4f17-8aa3-a01d1110b109",
        "colab": {
          "base_uri": "https://localhost:8080/",
          "height": 51
        }
      },
      "source": [
        "#empty list\n",
        "li_empty = []\n",
        "multiply_matrices(li_empty)"
      ],
      "execution_count": 0,
      "outputs": [
        {
          "output_type": "stream",
          "text": [
            "Hold up, that list is totally empty!\n",
            "\n"
          ],
          "name": "stdout"
        }
      ]
    },
    {
      "cell_type": "markdown",
      "metadata": {
        "id": "LwdIg4NdRDNd",
        "colab_type": "text"
      },
      "source": [
        "##MultError\n",
        "When attempting to multiply matrices that are incompatible, a MultError is raised."
      ]
    },
    {
      "cell_type": "code",
      "metadata": {
        "id": "MGD1hgAkPvdB",
        "colab_type": "code",
        "outputId": "ddd9df36-9e33-420f-e365-bdcacfe70b00",
        "colab": {
          "base_uri": "https://localhost:8080/",
          "height": 136
        }
      },
      "source": [
        "#row and column mismatch, can't multiply\n",
        "li_mult_error = []\n",
        "li_mult_error.append(np.full((2,2),2))\n",
        "li_mult_error.append(np.full((3,4),3))\n",
        "\n",
        "multiply_matrices(li_mult_error)"
      ],
      "execution_count": 0,
      "outputs": [
        {
          "output_type": "stream",
          "text": [
            "These cannot be multiplied due to dimension:\n",
            "[[2 2]\n",
            " [2 2]]\n",
            "[[3 3 3 3]\n",
            " [3 3 3 3]\n",
            " [3 3 3 3]]\n",
            "\n"
          ],
          "name": "stdout"
        }
      ]
    },
    {
      "cell_type": "markdown",
      "metadata": {
        "id": "efLLGCzI4HXz",
        "colab_type": "text"
      },
      "source": [
        "Two matrices are incompatible and thus cannot be multiplied when:\n",
        "The **column number** of the first matrix does not equal the **row number** of the second matrix.\n",
        "For the example above:\n",
        "\n",
        "$\\begin{pmatrix}2 & 2\\\\ 2 & 2 \\end{pmatrix}$ has dimension (2,2)\n",
        "\n",
        "$\\begin{pmatrix}3 & 3 & 3 \\\\ 3 & 3 & 3 \\\\ 3 & 3 & 3\\end{pmatrix}$ has dimension (3,3)\n",
        "\n",
        "Because the columns of $\\begin{pmatrix}2 & 2\\\\ 2 & 2 \\end{pmatrix}$ and the rows of $\\begin{pmatrix}3 & 3 & 3 & 3 \\\\ 3 & 3 & 3 & 3 \\\\ 3 & 3 & 3 & 3 \\end{pmatrix}$\n",
        "mismatch ($2\\neq3$) they cannot be multiplied together.\n",
        "\n",
        "and thus MultError is raised.\n"
      ]
    },
    {
      "cell_type": "markdown",
      "metadata": {
        "id": "6MK92iaaQ4L_",
        "colab_type": "text"
      },
      "source": [
        "## Sources\n",
        "\n",
        "Python and Numpy Tutorials - used to familiarize myself with Python and Numpy\n",
        "\n",
        "https://colab.research.google.com/drive/1CdwvzRhFNIlhp1mWVWFXSXAsmRFWvASq\n",
        "\n",
        "https://colab.research.google.com/drive/1oixeI3yWIKkjCyg7SVIV-1mXI3LUbCAN#scrollTo=W35e4f-b03r8\n",
        "\n",
        "Exception handling in Python - used to learn how exceptions work\n",
        "\n",
        "https://docs.python.org/2/tutorial/errors.html\n"
      ]
    }
  ]
}
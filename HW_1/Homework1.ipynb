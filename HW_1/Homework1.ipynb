{
  "nbformat": 4,
  "nbformat_minor": 0,
  "metadata": {
    "colab": {
      "name": "Homework1.ipynb",
      "provenance": [],
      "collapsed_sections": []
    },
    "kernelspec": {
      "name": "python3",
      "display_name": "Python 3"
    }
  },
  "cells": [
    {
      "cell_type": "markdown",
      "metadata": {
        "id": "cgb-svM3PN15",
        "colab_type": "text"
      },
      "source": [
        "Problem 2:\n",
        "Inside a colab notebook implement a **Python function multiply_matrices** that **takes as input a list of numpy arrays and outputs their product.** It should **raise a custom exception if there is a pair of incompatible matrices.** The exception message should **provide information about which pair of matrices is bad.** Make sure that you follow the style guide for Python. Also use simple markup for formatting your notebook and include a simple description of what your program does inside a text cell. You should also use some simple Latex commands, for instance, when explaining what it means for two matrices to be compatible.\n",
        "\n",
        "Make this notebook editable (so the TAs can directly put comments in the notebook), obtain a sharable link, enter it in Webcourses, and also save this notebook to your GitHub repo inside the folder called HW_1."
      ]
    },
    {
      "cell_type": "markdown",
      "metadata": {
        "id": "1k6jAqO5PCR7",
        "colab_type": "text"
      },
      "source": [
        "\n",
        "\n",
        "---\n",
        "\n"
      ]
    },
    {
      "cell_type": "code",
      "metadata": {
        "id": "PhUgl_EPOI35",
        "colab_type": "code",
        "colab": {}
      },
      "source": [
        "import numpy as np\n",
        "\n",
        "# multiplication error due to dimension\n",
        "class MultError(Error):\n",
        "  def __init__(self, message):\n",
        "    self.message = \"These cannot be multiplied due to dimension:\\n\" + message + \"\\n\"\n",
        "\n",
        "# empty list error\n",
        "class EmptyError(Error):\n",
        "  def __init__(self, message):\n",
        "    self.message = message\n",
        "\n",
        "# function to multiply matrices\n",
        "def multiply_matrices(li):\n",
        "  try:\n",
        "    if len(li) == 0:\n",
        "      raise EmptyError(\"Hold up, that list is totally empty!\")\n",
        "  except EmptyError as e:\n",
        "    print(e.message)\n",
        "  if(len(li)) == 1:\n",
        "      li.append(li[0])\n",
        "  for i in range(len(li) - 1):\n",
        "    try:\n",
        "      a = li[i]\n",
        "      b = li[i+1]\n",
        "      if a.shape[1] != b.shape[0]:\n",
        "        raise MultError(str(a) + \"\\n\" + str(b))\n",
        "    except MultError as e:\n",
        "      print(e.message)\n",
        "    else:\n",
        "        print(\"Product: \\n\" + str(np.matmul(a, b)))\n",
        "        print()\n",
        "    try:\n",
        "      a = li[i+1]\n",
        "      b = li[i]\n",
        "      if a.shape[1] != b.shape[0]:\n",
        "        raise MultError(str(a) + \"\\n\" + str(b))\n",
        "    except MultError as e:\n",
        "      print(e.message)\n",
        "    else:\n",
        "        print(\"Product: \\n\" + str(np.matmul(a, b)))\n",
        "        print()"
      ],
      "execution_count": 0,
      "outputs": []
    },
    {
      "cell_type": "code",
      "metadata": {
        "id": "1xbVIXt43t7R",
        "colab_type": "code",
        "colab": {
          "base_uri": "https://localhost:8080/",
          "height": 578
        },
        "outputId": "37435aab-960b-43a7-f7b0-ad1f7715f0fc"
      },
      "source": [
        "#input the list\n",
        "li = []\n",
        "li.append(np.full((1,2),2))\n",
        "li.append(np.full((2,3),3))\n",
        "li.append(np.full((2,4),4))\n",
        "li.append(np.full((4,5),5))\n",
        "\n",
        "li_empty = []\n",
        "\n",
        "\n",
        "#call function to test multiplication\n",
        "multiply_matrices(li)\n",
        "multiply_matrices(li_empty)"
      ],
      "execution_count": 219,
      "outputs": [
        {
          "output_type": "stream",
          "text": [
            "Product: \n",
            "[[12 12 12]]\n",
            "\n",
            "These cannot be multiplied due to dimension:\n",
            "[[3 3 3]\n",
            " [3 3 3]]\n",
            "[[2 2]]\n",
            "\n",
            "These cannot be multiplied due to dimension:\n",
            "[[3 3 3]\n",
            " [3 3 3]]\n",
            "[[4 4 4 4]\n",
            " [4 4 4 4]]\n",
            "\n",
            "These cannot be multiplied due to dimension:\n",
            "[[4 4 4 4]\n",
            " [4 4 4 4]]\n",
            "[[3 3 3]\n",
            " [3 3 3]]\n",
            "\n",
            "Product: \n",
            "[[80 80 80 80 80]\n",
            " [80 80 80 80 80]]\n",
            "\n",
            "These cannot be multiplied due to dimension:\n",
            "[[5 5 5 5 5]\n",
            " [5 5 5 5 5]\n",
            " [5 5 5 5 5]\n",
            " [5 5 5 5 5]]\n",
            "[[4 4 4 4]\n",
            " [4 4 4 4]]\n",
            "\n",
            "Hold up, that list is totally empty!\n"
          ],
          "name": "stdout"
        }
      ]
    },
    {
      "cell_type": "markdown",
      "metadata": {
        "id": "efLLGCzI4HXz",
        "colab_type": "text"
      },
      "source": [
        "### Explanation\n",
        "The **multiply_matrices** function takes a list of numpy arrays as input. It then checks the dimensions.\n",
        "If the list only has 1 matrix, I attempt to multiply it by itself.\n",
        "If the list has 2+ arrays, I multiply them both forwards and backwards.\n",
        "What I mean by that if I have 2 matrices A and B, I attempt to multiply AB and BA.\n",
        "\n",
        "Two matrices are incompatible and thus cannot be multiplied when:\n",
        "The column number of the first matrix does not equal the row number of the second matrix.\n",
        "\n",
        "For example:\n",
        "\n",
        "```\n",
        "li.append(np.full((1,2),2))\n",
        "li.append(np.full((2,3),3))\n",
        "```\n",
        "\n",
        "These first 2 matrices in the program will multiply because their dimensions are (1,2) and (2,3). However, switching the order that they're multiplied in will result in a MultError, because their dimensions will be (2,3) and (1,2).\n",
        "\n",
        "The custom exceptions I've written are **MultError** and **EmptyError**:\n",
        "\n",
        "**MultError** is raised when two matrices cannot be multiplied together. It prints the matrices that caused this, in the order in which they were being multiplied.\n",
        "\n",
        "**EmptyError** is raised when the list input into the multiply_matrices function is empty. It displays a message saying that the list is empty."
      ]
    },
    {
      "cell_type": "markdown",
      "metadata": {
        "id": "6MK92iaaQ4L_",
        "colab_type": "text"
      },
      "source": [
        "### Sources\n",
        "\n",
        "Python and Numpy Tutorials - used to familiarize myself with Python and Numpy\n",
        "\n",
        "https://colab.research.google.com/drive/1CdwvzRhFNIlhp1mWVWFXSXAsmRFWvASq\n",
        "\n",
        "https://colab.research.google.com/drive/1oixeI3yWIKkjCyg7SVIV-1mXI3LUbCAN#scrollTo=W35e4f-b03r8\n",
        "\n",
        "Exception handling in Python - used to learn how exceptions work\n",
        "\n",
        "https://docs.python.org/2/tutorial/errors.html\n"
      ]
    }
  ]
}
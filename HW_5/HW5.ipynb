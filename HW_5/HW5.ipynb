{
  "nbformat": 4,
  "nbformat_minor": 0,
  "metadata": {
    "colab": {
      "name": "HW5.ipynb",
      "provenance": [],
      "collapsed_sections": [],
      "authorship_tag": "ABX9TyM4mh1Ng/vsgmqJN2eu99qM",
      "include_colab_link": true
    },
    "kernelspec": {
      "name": "python3",
      "display_name": "Python 3"
    },
    "accelerator": "GPU"
  },
  "cells": [
    {
      "cell_type": "markdown",
      "metadata": {
        "id": "view-in-github",
        "colab_type": "text"
      },
      "source": [
        "<a href=\"https://colab.research.google.com/github/maleahjamieson/machine_learning/blob/master/HW_5/HW5.ipynb\" target=\"_parent\"><img src=\"https://colab.research.google.com/assets/colab-badge.svg\" alt=\"Open In Colab\"/></a>"
      ]
    },
    {
      "cell_type": "markdown",
      "metadata": {
        "id": "vVPZv9iATTUM",
        "colab_type": "text"
      },
      "source": [
        "#General Concepts"
      ]
    },
    {
      "cell_type": "markdown",
      "metadata": {
        "id": "yXWn4jnlTaZD",
        "colab_type": "text"
      },
      "source": [
        "###What is artificial intelligence?\n",
        "\n",
        "Artificial intelligence is the overarching term. Essentially, it involves making computers do things that are \"smart\", meaning stuff that requires a person's intelligence. This usually takes input and explicit human-created rules and gets some output from it."
      ]
    },
    {
      "cell_type": "markdown",
      "metadata": {
        "id": "iXcgU3fozA7u",
        "colab_type": "text"
      },
      "source": [
        "###What is machine learning?\n",
        "\n",
        "Machine learning is a subcategory of artificial intelligence. It is the process of training a model to make predictions about a data set, and then use the trained model to make predictions from more data that it has not seen.\n",
        "\n",
        "Here, computers \"learn\" as they are exposed to more data. This category of AI is typically less reliant on people to make changes, as the computers will learn and make certain changes themselves.\n",
        "\n",
        "In comparison to the umbrella term AI, machine learning typically takes input and output and creates the rules on its own, which it then in turn uses to predict more outputs.\n",
        "\n",
        "Within machine learning, we have supervised learning and unsupervised learning.\n",
        "\n",
        "Supervised learning is essentially training a model with labeled training data, similar to what we did in Homework 3. In that homework assignment, we created our own labeled data to train our model on. There, the features were the x's (tied to each of the weights w), and the label (what we were trying to predict) was the class label (whether is was above or below the line). This is called supervised training, because you \"supervise\" the machine learning by feeding the system the expected output label instead of it figuring it out itself.\n",
        "\n",
        "On the contrary, unsupervised learning is not told the labels for the data set it is trained on, and must determine the labels for the data itself. This is used for deep learning."
      ]
    },
    {
      "cell_type": "markdown",
      "metadata": {
        "id": "TsdN69B7zCjk",
        "colab_type": "text"
      },
      "source": [
        "###What is deep learning?\n",
        "\n",
        "Deep learning is a subcategory of machine learning. It involves multiple layers within a machine learning system, like within neural networks. These typically operate under unsupervised learning, as it does not require human interference when training with/labelling data (I discussed this above). "
      ]
    },
    {
      "cell_type": "markdown",
      "metadata": {
        "id": "qzNSKNATTcXf",
        "colab_type": "text"
      },
      "source": [
        "#Basic Concepts"
      ]
    },
    {
      "cell_type": "markdown",
      "metadata": {
        "id": "AhGyadHtTp5Y",
        "colab_type": "text"
      },
      "source": [
        "###Linear regression\n",
        "\n",
        "In machine learning, the equation for a linear regression model looks like this:\n",
        "\n",
        "$\\hat y = b + w_1x_1 + w_2x_2 + ... + w_nx_n$\n",
        "\n",
        "where $\\hat y$ is the predicted output (a label),\n",
        "\n",
        "$b$ is the bias,\n",
        "\n",
        "$w_1$ is the weight of feature 1, which is $x_1$. Thus, $w_n$ is the weight of feature n, which is $x_n$.\n",
        "\n",
        "In homework 3, we implemented linear regression both with numpy and using a Keras convolutional neural network. This can be found [in my HW3 colab notebook here.](https://colab.research.google.com/drive/1Kd_APo_rFHE6gKUk9Y0utoea6AZUn4Rk)\n",
        "\n",
        "Linear regression is used to predict a variable that is continuous: for example, weather patterns. However, as the name implies, the relationship between the variables must be linear.\n",
        "\n",
        "We use linear regression to approximate the best fit line, and use this to determine the output.\n",
        "\n",
        "We determine the accuracy of linear regression typically using least squares, although this is not always the best way to do so, depending on the kind of data you are working with. For example: in the HW3 notebook above, I used binary cross entropy to determine loss, as the data I was working with was binary. I go over these loss functions in the loss section.\n",
        "\n"
      ]
    },
    {
      "cell_type": "markdown",
      "metadata": {
        "id": "DzYJI8v4rW4j",
        "colab_type": "text"
      },
      "source": [
        "###Logistic regression\n",
        "\n",
        "Logistic regression is used for binary classification problems, which is when there are only 2 possibilities for an output's class. Here, we are trying to predict values for a categorical variable. A good example of this would be whether someone had a disease or not.\n",
        "\n",
        "A main difference between this and linear regression is that logistic regression does not require there to be a linear relationship between variables; in fact, we use this to find a curve to classify data by."
      ]
    },
    {
      "cell_type": "markdown",
      "metadata": {
        "id": "QZDk00PX8KvS",
        "colab_type": "text"
      },
      "source": [
        "###Loss\n",
        "\n",
        "I talked about some loss functions above. Essentially, loss is a way we determine how accurate our predictions are in a machine learning model.\n",
        "\n",
        "When $loss = 0$ then the prediction from the model is perfect. Thus, we want low loss across all test data.\n",
        "\n",
        "Some of the more common loss functions (at least, the ones I encountered in this class) were mean squared error loss and binary cross entropy loss.\n",
        "\n",
        "**Mean squared error** was the average squared loss across an entire dataset. The formula for this is as follows:\n",
        "\n",
        "$MSE = \\frac1n\\sum_{i=1}^{n}(y^i-\\hat y^i)^2$\n",
        "\n",
        "where $n$ is the number of points/examples,\n",
        "\n",
        "$y^i$ is the label of the $ith$ example (associated with feature $x_i$ and weight $w_i$,\n",
        "\n",
        "$\\hat y^i$ is the model's prediction.\n",
        "\n",
        "The binary cross entropy loss function is as follows:\n",
        "\n",
        "$BCE = -ylog(a)-(1-y)log(1-a)$\n",
        "\n",
        "where $y$ is the true label of the example,\n",
        "\n",
        "a is the activation function.\n",
        "\n",
        "In binary classification problems, there are only 2 classes. Within this function, if $y = 1$ then $loss = -log(a)$, whereas if $y = 0$ then $loss = -log(1-a)$.\n"
      ]
    },
    {
      "cell_type": "markdown",
      "metadata": {
        "id": "yYFQNNZFDIlf",
        "colab_type": "text"
      },
      "source": [
        "###Gradients\n",
        "\n",
        "We use gradients to iteratively train the model to minimize loss. This is a method called gradient descent.\n",
        "\n",
        "The first step is to choose a starting value/point, and then the gradient descent algorithm calculates this gradient.\n",
        "\n",
        "Gradients are vectors: their entries are the partial derivatives of the loss function with respect to the weights.\n",
        "\n",
        "This looks like: $\\partial{L}/\\partial{w_i}$\n",
        "\n",
        "where $L$ is the loss function and $w_i$ is the ith weight.\n",
        "\n",
        "The gradient will always point towards the steepest increase in the loss function. Thus, the algorithm will  move in the opposite direction (the negative gradient).\n",
        "\n",
        "It will continue to do this iteratively for all data."
      ]
    },
    {
      "cell_type": "markdown",
      "metadata": {
        "id": "BOTJ7e9zFHEr",
        "colab_type": "text"
      },
      "source": [
        "###Types of gradient descent\n",
        "\n",
        "Batch gradient descent is when we go through all of the training examples every iteration of gradient descent.\n",
        "\n",
        "Stochastic gradient descent is when we update the parameters after each iteration of gradient descent. We also only do 1 example per iteration.\n",
        "\n",
        "Mini-batch gradient descent, unlike batch gradient descent, goes through a \"batch\" of the training examples (not all of them) each iteration.\n",
        "\n",
        "Batch gradient descent is pretty slow compared to the rest of these, especially with larger data sets. Stochastic gradient descent is middle-of-the-pack, and mini-batch gradient descent is the fastest because it does things in less iterations.\n",
        "\n"
      ]
    },
    {
      "cell_type": "markdown",
      "metadata": {
        "id": "zTocizMITrPG",
        "colab_type": "text"
      },
      "source": [
        "#Building a Model"
      ]
    },
    {
      "cell_type": "markdown",
      "metadata": {
        "id": "iv-3tJHwHwk4",
        "colab_type": "text"
      },
      "source": [
        "###Structure and components of a convnet\n",
        "\n",
        "There is a picture from the convolutional neural network [slides](https://github.com/schneider128k/machine_learning_course/blob/master/slides/CNN_slides.pdf) that really helped me understand the structure of a convolutional neural network. I have pasted it below:"
      ]
    },
    {
      "cell_type": "markdown",
      "metadata": {
        "id": "kDRTUpyyTu3X",
        "colab_type": "text"
      },
      "source": [
        "![image.png](data:image/png;base64,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)"
      ]
    },
    {
      "cell_type": "markdown",
      "metadata": {
        "id": "SvMx_nmbIQ_w",
        "colab_type": "text"
      },
      "source": [
        "From the above example CNN, we can see that it takes as input the image of a cat. From there, it has a 2D convolution layer, followed by a maxpooling layer. It does this again in the next 2 layers, followed by 2 fully connected layers that classify the features extracted by the previous modules."
      ]
    },
    {
      "cell_type": "markdown",
      "metadata": {
        "id": "Ab8hefenqRKE",
        "colab_type": "text"
      },
      "source": [
        "Below is an example of a CNN in Keras.\n",
        "`model.summary` displays the structure of the convnet.\n",
        "\n",
        "However, instead of doing the cat problem (above) I am going to show a simple convnet with the MNIST dataset. The main difference here is that instead of a binary classification, it will instead be categorical. This means the output will not be yes/no, but rather the category the model believes the image belongs in. In the case of the MNIST dataset, the model will output which number it thinks the image is.\n"
      ]
    },
    {
      "cell_type": "code",
      "metadata": {
        "id": "6UNZ6Z1FnMUC",
        "colab_type": "code",
        "colab": {
          "base_uri": "https://localhost:8080/",
          "height": 442
        },
        "outputId": "af4a1600-819d-4ede-d149-a32a581abafe"
      },
      "source": [
        "import keras\n",
        "from keras import models\n",
        "from keras import layers\n",
        "\n",
        "model = models.Sequential()\n",
        "\n",
        "#this is conv. module 1\n",
        "model.add(layers.Conv2D(32,(3,3), activation='relu', input_shape=(28,28,1)))\n",
        "model.add(layers.MaxPooling2D((2,2)))\n",
        "\n",
        "#this is conv. module 2\n",
        "model.add(layers.Conv2D(64,(3,3), activation='relu'))\n",
        "model.add(layers.MaxPooling2D((2,2)))\n",
        "\n",
        "#last convolution before feeding into classifier\n",
        "model.add(layers.Conv2D(64, (3,3), activation='relu'))\n",
        "\n",
        "#this part is the classification\n",
        "model.add(layers.Flatten())\n",
        "model.add(layers.Dense(64, activation='relu'))\n",
        "model.add(layers.Dense(10, activation='softmax'))\n",
        "\n",
        "model.summary()"
      ],
      "execution_count": 1,
      "outputs": [
        {
          "output_type": "stream",
          "text": [
            "Using TensorFlow backend.\n"
          ],
          "name": "stderr"
        },
        {
          "output_type": "stream",
          "text": [
            "Model: \"sequential_1\"\n",
            "_________________________________________________________________\n",
            "Layer (type)                 Output Shape              Param #   \n",
            "=================================================================\n",
            "conv2d_1 (Conv2D)            (None, 26, 26, 32)        320       \n",
            "_________________________________________________________________\n",
            "max_pooling2d_1 (MaxPooling2 (None, 13, 13, 32)        0         \n",
            "_________________________________________________________________\n",
            "conv2d_2 (Conv2D)            (None, 11, 11, 64)        18496     \n",
            "_________________________________________________________________\n",
            "max_pooling2d_2 (MaxPooling2 (None, 5, 5, 64)          0         \n",
            "_________________________________________________________________\n",
            "conv2d_3 (Conv2D)            (None, 3, 3, 64)          36928     \n",
            "_________________________________________________________________\n",
            "flatten_1 (Flatten)          (None, 576)               0         \n",
            "_________________________________________________________________\n",
            "dense_1 (Dense)              (None, 64)                36928     \n",
            "_________________________________________________________________\n",
            "dense_2 (Dense)              (None, 10)                650       \n",
            "=================================================================\n",
            "Total params: 93,322\n",
            "Trainable params: 93,322\n",
            "Non-trainable params: 0\n",
            "_________________________________________________________________\n"
          ],
          "name": "stdout"
        }
      ]
    },
    {
      "cell_type": "markdown",
      "metadata": {
        "id": "9-UK0epkqjWk",
        "colab_type": "text"
      },
      "source": [
        "As you can see from the summary, it contains the same number of convolutional modules as the image above. I separated the code with comments so you could see how I set up the different layers."
      ]
    },
    {
      "cell_type": "markdown",
      "metadata": {
        "id": "Is7Bhi4vOuEv",
        "colab_type": "text"
      },
      "source": [
        "###How does convolution and maxpooling work?\n",
        "\n",
        "In [homework 4](https://colab.research.google.com/drive/14iJSl1CJ5Gq6zKZrK-A7L27BvEv1s9LY), I created 2 functions that do convolution and maxpooling using `numpy`. I'm not going to create any code cells here, as I would just be copy-pasting my homework 4 code. So I provided the link above, and instead will describe it briefly and conceptually below.\n",
        "\n",
        "Conceptually, convolution takes an input feature map (in my code, as a numpy array) and stacks/slides a convolutional filter over it. This filter extracts features it has been designed to \"find\".\n",
        "\n",
        "My code assumes a stride of 1 for the convolutions. Stride just means how far the filter slides. This was problem 1 in homework 4."
      ]
    },
    {
      "cell_type": "markdown",
      "metadata": {
        "id": "KVixMlzEPYXu",
        "colab_type": "text"
      },
      "source": [
        "As for maxpooling, it works similarly to convolution. We slide a window over the feature map, and take the max values from each window.\n",
        "\n",
        "In my code, the stride is equal to the s value, which also determines the window size. This prevents overlap. This was problem 2 in homework 4."
      ]
    },
    {
      "cell_type": "markdown",
      "metadata": {
        "id": "2oUNQFCnUyeC",
        "colab_type": "text"
      },
      "source": [
        "#Compiling a Model"
      ]
    },
    {
      "cell_type": "markdown",
      "metadata": {
        "id": "kQP7c8B0OBWA",
        "colab_type": "text"
      },
      "source": [
        "###Optimizers"
      ]
    },
    {
      "cell_type": "markdown",
      "metadata": {
        "id": "iFJyuZfttRRl",
        "colab_type": "text"
      },
      "source": [
        "There are actually 2 ways to set the optimizer within `model.compile()`. In the first (as below) we can set the learning rate ourselves.\n",
        "\n",
        "The second would look like `optimizer='rmsprop'` and use the default parameters for that optimizer."
      ]
    },
    {
      "cell_type": "code",
      "metadata": {
        "id": "0qzehgK1Q033",
        "colab_type": "code",
        "colab": {}
      },
      "source": [
        "from keras import optimizers\n",
        "model.compile(loss='categorical_crossentropy', optimizer=optimizers.RMSprop(lr=0.0001), metrics=['accuracy'])"
      ],
      "execution_count": 0,
      "outputs": []
    },
    {
      "cell_type": "markdown",
      "metadata": {
        "id": "wQRau9Imtdkq",
        "colab_type": "text"
      },
      "source": [
        "Here I am using the optimizer called RMSprop. The way this works is we divide the learning rate of a weight by an average of the gradient magnitudes for said weight.\n",
        "\n",
        "Another optimizer we used in this class is stochastic gradient descent (`sgd`). I went over how this works in the \"types of gradient descent\" subsection within the previous section."
      ]
    },
    {
      "cell_type": "markdown",
      "metadata": {
        "id": "DxfebUQZU5mF",
        "colab_type": "text"
      },
      "source": [
        "###Learning rate\n",
        "\n",
        "The learning rate is used to predict a weight, using the existing weight and gradient. More specifically, the formula is this:\n",
        "\n",
        "$\\hat w = w - lr * gradient$\n",
        "\n",
        "where $\\hat w$ is the new weight,\n",
        "\n",
        "$lr$ is the learning rate,\n",
        "\n",
        "and $gradient$ is the gradient.\n",
        "\n",
        "A small learning rate would result in the system taking too much time to learn. It would slow down gradient descent, which as I mentioned before is an iterative process.\n",
        "\n",
        "However, too big of a learning rate causes the next point to be too far and overshoot the minimum point.\n",
        "\n",
        "In the above code, the learning rate is found within the optimizer declaration: `optimizer=optimizers.RMSprop(lr=0.01)`"
      ]
    },
    {
      "cell_type": "markdown",
      "metadata": {
        "id": "yW6dxgzMU5w6",
        "colab_type": "text"
      },
      "source": [
        "#Training a Model"
      ]
    },
    {
      "cell_type": "code",
      "metadata": {
        "id": "cokx_rC9wLB9",
        "colab_type": "code",
        "colab": {
          "base_uri": "https://localhost:8080/",
          "height": 374
        },
        "outputId": "e0b430a6-978f-44e8-ffe1-cef13105592d"
      },
      "source": [
        "from keras.datasets import mnist\n",
        "from keras.utils import to_categorical\n",
        "\n",
        "#importing the training and test images\n",
        "(train_images, train_labels), (test_images, test_labels) = mnist.load_data()\n",
        "\n",
        "#resizing the images, 4 dimensions\n",
        "train_images = train_images.reshape((60000, 28, 28, 1))\n",
        "test_images = test_images.reshape((10000, 28, 28, 1))\n",
        "\n",
        "#changing labels to be categorical (since this is a categorical problem)\n",
        "train_labels = to_categorical(train_labels)\n",
        "test_labels = to_categorical(test_labels)\n",
        "\n",
        "#training the model\n",
        "model.fit(train_images, train_labels, epochs=10, batch_size=32)"
      ],
      "execution_count": 3,
      "outputs": [
        {
          "output_type": "stream",
          "text": [
            "Epoch 1/10\n",
            "60000/60000 [==============================] - 9s 156us/step - loss: 0.5535 - accuracy: 0.8961\n",
            "Epoch 2/10\n",
            "60000/60000 [==============================] - 8s 127us/step - loss: 0.1083 - accuracy: 0.9698\n",
            "Epoch 3/10\n",
            "60000/60000 [==============================] - 8s 130us/step - loss: 0.0670 - accuracy: 0.9805\n",
            "Epoch 4/10\n",
            "60000/60000 [==============================] - 7s 121us/step - loss: 0.0500 - accuracy: 0.9852\n",
            "Epoch 5/10\n",
            "60000/60000 [==============================] - 7s 118us/step - loss: 0.0379 - accuracy: 0.9889\n",
            "Epoch 6/10\n",
            "60000/60000 [==============================] - 7s 118us/step - loss: 0.0291 - accuracy: 0.9912\n",
            "Epoch 7/10\n",
            "60000/60000 [==============================] - 7s 117us/step - loss: 0.0244 - accuracy: 0.9926\n",
            "Epoch 8/10\n",
            "60000/60000 [==============================] - 7s 118us/step - loss: 0.0205 - accuracy: 0.9939\n",
            "Epoch 9/10\n",
            "60000/60000 [==============================] - 7s 117us/step - loss: 0.0169 - accuracy: 0.9948\n",
            "Epoch 10/10\n",
            "60000/60000 [==============================] - 7s 118us/step - loss: 0.0132 - accuracy: 0.9959\n"
          ],
          "name": "stdout"
        },
        {
          "output_type": "execute_result",
          "data": {
            "text/plain": [
              "<keras.callbacks.callbacks.History at 0x7facf0357da0>"
            ]
          },
          "metadata": {
            "tags": []
          },
          "execution_count": 3
        }
      ]
    },
    {
      "cell_type": "code",
      "metadata": {
        "id": "BkpCZX-91cY8",
        "colab_type": "code",
        "colab": {
          "base_uri": "https://localhost:8080/",
          "height": 51
        },
        "outputId": "bc6627a3-0e9d-4773-e2d3-7a1948b79751"
      },
      "source": [
        "model.evaluate(test_images, test_labels)"
      ],
      "execution_count": 4,
      "outputs": [
        {
          "output_type": "stream",
          "text": [
            "10000/10000 [==============================] - 1s 70us/step\n"
          ],
          "name": "stdout"
        },
        {
          "output_type": "execute_result",
          "data": {
            "text/plain": [
              "[0.050774526303243306, 0.9879999756813049]"
            ]
          },
          "metadata": {
            "tags": []
          },
          "execution_count": 4
        }
      ]
    },
    {
      "cell_type": "markdown",
      "metadata": {
        "id": "u16ciUUkNCxG",
        "colab_type": "text"
      },
      "source": [
        "As you can see, the accuracy and loss for the training data was pretty great!\n",
        "\n",
        "The test accuracy and loss were also pretty good."
      ]
    },
    {
      "cell_type": "markdown",
      "metadata": {
        "id": "8MM4fMFnLBY8",
        "colab_type": "text"
      },
      "source": [
        "###Underfitting\n",
        "\n",
        "Underfitting is the opposite of overfitting; the model is not accurate enough on the training data, and it's bad at predicting the test data. Usually, we fix this by using a different approach or different algorithms that will predict better."
      ]
    },
    {
      "cell_type": "markdown",
      "metadata": {
        "id": "oU_yMYx5U77n",
        "colab_type": "text"
      },
      "source": [
        "###Overfitting\n",
        "\n",
        "You can tell a model is overfitting when it does not fit new data very well, but appears to predict the training data well. In other words, when a model has low loss on the training data but high loss on the test data.\n",
        "\n",
        "This is often caused by making a model more complex (having too many layers, doing too many things with feature extraction, etc.), or havig too small of a dataset.\n",
        "\n",
        "We combat this by splitting our training data into training and test sets, to determine if our model overfits the data. We did this within [homework 3](https://colab.research.google.com/drive/1Kd_APo_rFHE6gKUk9Y0utoea6AZUn4Rk), when we created the data that we trained the model on."
      ]
    },
    {
      "cell_type": "markdown",
      "metadata": {
        "id": "82Xq3TONU8Gm",
        "colab_type": "text"
      },
      "source": [
        "#Finetuning a Pretrained Model"
      ]
    },
    {
      "cell_type": "markdown",
      "metadata": {
        "id": "Kyc23_lBZpen",
        "colab_type": "text"
      },
      "source": [
        "Fine-tuning involves unfreezing a few layers from a frozen model, and training the unfrozen layers along with the model. Typically, the process goes like this:\n",
        "\n",
        "Add to the pre-trained model.\n",
        "\n",
        "Freeze the pre-trained base (not the part you added).\n",
        "\n",
        "Train the added parts.\n",
        "\n",
        "Unfreeze some of the pre-trained model.\n",
        "\n",
        "Train both of these together."
      ]
    },
    {
      "cell_type": "markdown",
      "metadata": {
        "id": "zE-RkAfxNnHf",
        "colab_type": "text"
      },
      "source": [
        "Homework 4 Problem 3 was exactly this. It was pretty long, so I won't copy/paste it here. Rather, I will link it.\n",
        "\n",
        "[Part 1](https://colab.research.google.com/drive/1ZRx455JjTy0MX7Jqdnc0YnMiFnEbBPws)\n",
        "\n",
        "[Part 2](https://colab.research.google.com/drive/1fhEnuNpPUcS6YWbM9K5TaF8mrphi9qk0)"
      ]
    },
    {
      "cell_type": "markdown",
      "metadata": {
        "id": "mdKN6O_BRLq_",
        "colab_type": "text"
      },
      "source": [
        "Now the reason we only fine-tune some layers and not all of them is because with each layer, features get more and more specific. So fine-tuning earlier layers would affect just the more general features. This isn't as helpful as fine-tuning specific features!"
      ]
    },
    {
      "cell_type": "markdown",
      "metadata": {
        "id": "ncmIv5AmPr0h",
        "colab_type": "text"
      },
      "source": [
        "###Resources\n",
        "\n",
        "I referenced a lot of the homework assignments, linked throughout the document.\n",
        "\n",
        "I also referenced chapter 5 of Deep Learning with Python."
      ]
    }
  ]
}
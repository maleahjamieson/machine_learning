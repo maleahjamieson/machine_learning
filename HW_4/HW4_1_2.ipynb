{
  "nbformat": 4,
  "nbformat_minor": 0,
  "metadata": {
    "colab": {
      "name": "HW4-1-2.ipynb",
      "provenance": [],
      "collapsed_sections": [],
      "authorship_tag": "ABX9TyNykyRl4RV7eQKTtMF6oCnF",
      "include_colab_link": true
    },
    "kernelspec": {
      "name": "python3",
      "display_name": "Python 3"
    }
  },
  "cells": [
    {
      "cell_type": "markdown",
      "metadata": {
        "id": "view-in-github",
        "colab_type": "text"
      },
      "source": [
        "<a href=\"https://colab.research.google.com/github/maleahjamieson/machine_learning/blob/master/HW_4/HW4_1_2.ipynb\" target=\"_parent\"><img src=\"https://colab.research.google.com/assets/colab-badge.svg\" alt=\"Open In Colab\"/></a>"
      ]
    },
    {
      "cell_type": "markdown",
      "metadata": {
        "id": "3wsiyrc_gmIO",
        "colab_type": "text"
      },
      "source": [
        "##Problem One"
      ]
    },
    {
      "cell_type": "code",
      "metadata": {
        "id": "isxkzPr3eOVg",
        "colab_type": "code",
        "colab": {}
      },
      "source": [
        "import numpy as np"
      ],
      "execution_count": 0,
      "outputs": []
    },
    {
      "cell_type": "markdown",
      "metadata": {
        "id": "sOWvmSxvKQBL",
        "colab_type": "text"
      },
      "source": [
        "Defining error messages:"
      ]
    },
    {
      "cell_type": "code",
      "metadata": {
        "id": "hU3-0fgCn1Kb",
        "colab_type": "code",
        "colab": {}
      },
      "source": [
        "class Error(Exception):\n",
        "  \"\"\"baseline for other errors\"\"\"\n",
        "\n",
        "# matrix is not square\n",
        "class NotSquare(Error):\n",
        "  def __init__(self, message):\n",
        "    self.message = \"ERROR:\" + message + \" is not square.\"\n",
        "\n",
        "# kernel is too big\n",
        "class KernelTooLarge(Error):\n",
        "  def __init__(self, message):\n",
        "    self.message = message"
      ],
      "execution_count": 0,
      "outputs": []
    },
    {
      "cell_type": "markdown",
      "metadata": {
        "id": "lXUU1xKiKTCN",
        "colab_type": "text"
      },
      "source": [
        "Function to check if a matrix is square:"
      ]
    },
    {
      "cell_type": "code",
      "metadata": {
        "id": "yeZTT_P-mvA7",
        "colab_type": "code",
        "colab": {}
      },
      "source": [
        "def square(matrix):\n",
        "  for m in matrix:\n",
        "      if len(m) != len(matrix):\n",
        "        return False\n",
        "  return True"
      ],
      "execution_count": 0,
      "outputs": []
    },
    {
      "cell_type": "markdown",
      "metadata": {
        "id": "mmjUD4VOJ7JN",
        "colab_type": "text"
      },
      "source": [
        "Using only `numpy`, implement the function `conv2d`. It takes as input `input_mat` and `kernel_mat` and outputs `output_mat`. All variables are **square** matrices. It should compute the convolution of `input_mat` with the kernel `kernel_mat` using **valid padding**.\n",
        "\n",
        "Here, valid padding is no padding as said in lecture."
      ]
    },
    {
      "cell_type": "code",
      "metadata": {
        "id": "y2VCubZRgsE0",
        "colab_type": "code",
        "colab": {}
      },
      "source": [
        "def conv2d(input_mat, kernel_mat):\n",
        "  #checking if the matrices are square\n",
        "  try:\n",
        "    if square(input_mat) == False:\n",
        "      raise NotSquare(\"input_mat\")\n",
        "  except NotSquare as e:\n",
        "    print(e.message)\n",
        "    return []\n",
        "  try:\n",
        "    if square(kernel_mat) == False:\n",
        "      raise NotSquare(\"kernel_mat\")\n",
        "  except NotSquare as e:\n",
        "    print(e.message)\n",
        "    return []\n",
        "  \n",
        "  #now check if input > kernel\n",
        "  try:\n",
        "    if len(input_mat) < len(kernel_mat) or len(input_mat[0]) < len(kernel_mat[0]):\n",
        "      raise KernelTooLarge(\"ERROR: Kernel matrix is larger than the input matrix.\")\n",
        "  except KernelTooLarge as e:\n",
        "    print(e.message)\n",
        "    return []\n",
        "\n",
        "  #no exceptions, so convolve\n",
        "  else:\n",
        "    #need to flip the kernel first\n",
        "    out_size = len(input_mat[0]) - len(kernel_mat[0]) + 1\n",
        "    output_mat = np.zeros((out_size, out_size))\n",
        "    np.flip(kernel_mat,0)\n",
        "    #now we can convolve the input matrix with the flipped kernal\n",
        "    for x in range(out_size):\n",
        "      row = np.zeros(out_size)\n",
        "      for y in range(out_size):\n",
        "        sum = 0\n",
        "        for kx in range(len(kernel_mat)):\n",
        "          for ky in range(len(kernel_mat)):\n",
        "            sum += input_mat[kx+x][ky+y] * kernel_mat[kx][ky]\n",
        "        row[y] = sum\n",
        "      output_mat[x] = row\n",
        "    return output_mat"
      ],
      "execution_count": 0,
      "outputs": []
    },
    {
      "cell_type": "markdown",
      "metadata": {
        "id": "ALE6-L1hJbLo",
        "colab_type": "text"
      },
      "source": [
        "Below are the TA-created test cases:"
      ]
    },
    {
      "cell_type": "code",
      "metadata": {
        "id": "sFVkS87RpJar",
        "colab_type": "code",
        "colab": {
          "base_uri": "https://localhost:8080/",
          "height": 391
        },
        "outputId": "51a970f4-78df-4839-edec-36e9006e5baf"
      },
      "source": [
        "from scipy import signal\n",
        "\n",
        "#test cases\n",
        "input_mat = []\n",
        "kernel_mat = []\n",
        "expected_mat = []\n",
        "\n",
        "# test case 1\n",
        "input_mat.append(np.array([[1, 2, 1, 2],\n",
        "                      [2, 1, 2, 1],\n",
        "                      [1, 2, 1, 2],\n",
        "                      [2, 1, 2, 1]]))\n",
        "\n",
        "kernel_mat.append(np.array([[1, 0],\n",
        "                       [0, 1]]))\n",
        "\n",
        "expected_mat.append(np.array([[2, 4, 2],\n",
        "                                [4, 2, 4],\n",
        "                                [2, 4, 2]]))\n",
        "\n",
        "# test case 2\n",
        "input_mat.append(np.array([[1, 0, 0, 0],\n",
        "                      [0, 1, 0, 0],\n",
        "                      [0, 0, 1, 0],\n",
        "                      [0, 0, 0, 1]]))\n",
        "kernel_mat.append(np.array([[1, 0], [0, 1]]))\n",
        "expected_mat.append(np.array([[2, 0, 0], [0, 2, 0], [0, 0, 2]]))\n",
        "\n",
        "\n",
        "# test case 3\n",
        "input_mat.append(np.array([[1, 0, 0, 0],\n",
        "                      [0, 1, 0, 0],\n",
        "                      [0, 0, 1, 0],\n",
        "                      [0, 0, 0, 1]]))\n",
        "kernel_mat.append(np.array([[1, -1],\n",
        "                       [-1, 0]]))\n",
        "\n",
        "expected_mat.append(np.array([[ 1, -1,  0], [-1,  1, -1],[ 0, -1,  1]]))\n",
        "\n",
        "\n",
        "# test case 4\n",
        "input_mat.append(np.array([[1, 0, 0, 0],\n",
        "                      [0, 1, 0, 0],\n",
        "                      [0, 0, 1, 0],\n",
        "                      [0, 0, 0, 1]]))\n",
        "kernel_mat.append(np.array([[1, 0, 0, 0],\n",
        "                      [0, 1, 0, 0],\n",
        "                      [0, 0, 1, 0],\n",
        "                      [0, 0, 0, 1]]))\n",
        "\n",
        "expected_mat.append(np.array([[4]]))\n",
        "\n",
        "\n",
        "# test case 5 - should either through an error, or return empty matrix\n",
        "input_mat.append(np.array([[1, -1],\n",
        "                       [-1, 0]]))\n",
        "kernel_mat.append(np.array([[1, 0, 0, 0],\n",
        "                      [0, 1, 0, 0],\n",
        "                      [0, 0, 1, 0],\n",
        "                      [0, 0, 0, 1]]))\n",
        "\n",
        "expected_mat.append([])\n",
        "\n",
        "\n",
        "\n",
        "for i in range(len(input_mat)):\n",
        "  # uncomment line for student code testing\n",
        "  output_mat = conv2d(input_mat[i], kernel_mat[i])\n",
        "\n",
        "  # uncomment lines below (and comment line above) for generating test cases.\n",
        "  #if input_mat[i].shape[0] < kernel_mat[i].shape[0]:\n",
        "    #output_mat = []\n",
        "  #else:\n",
        "    #output_mat = signal.convolve2d(input_mat[i], kernel_mat[i], mode='valid')\n",
        "\n",
        "  print(output_mat)\n",
        "  if np.array_equal(output_mat, expected_mat[i]):\n",
        "    print(\"Correct output!\\n\")\n",
        "  else:\n",
        "    print(\"Incorrect output!\\n\")"
      ],
      "execution_count": 279,
      "outputs": [
        {
          "output_type": "stream",
          "text": [
            "[[2. 4. 2.]\n",
            " [4. 2. 4.]\n",
            " [2. 4. 2.]]\n",
            "Correct output!\n",
            "\n",
            "[[2. 0. 0.]\n",
            " [0. 2. 0.]\n",
            " [0. 0. 2.]]\n",
            "Correct output!\n",
            "\n",
            "[[ 1. -1.  0.]\n",
            " [-1.  1. -1.]\n",
            " [ 0. -1.  1.]]\n",
            "Correct output!\n",
            "\n",
            "[[4.]]\n",
            "Correct output!\n",
            "\n",
            "ERROR: Kernel matrix is larger than the input matrix.\n",
            "[]\n",
            "Correct output!\n",
            "\n"
          ],
          "name": "stdout"
        }
      ]
    },
    {
      "cell_type": "markdown",
      "metadata": {
        "id": "OrItBBrNJuHN",
        "colab_type": "text"
      },
      "source": [
        "##Problem Two"
      ]
    },
    {
      "cell_type": "markdown",
      "metadata": {
        "id": "aFRagThaJ0Xl",
        "colab_type": "text"
      },
      "source": [
        "Using only `numpy`, implement the function `maxpooling2d`. It takes as input `input_mat` and `s` and outputs `output_mat`. The variables `input_mat` and `output_mat` are **square** matrices and `s` is an integer. It should compute the maxpooling operation on **input_mat** using window of shape `s` times `s`.\n",
        "\n",
        "This assumes a stride = s."
      ]
    },
    {
      "cell_type": "code",
      "metadata": {
        "id": "ktLVsEMNMGZM",
        "colab_type": "code",
        "colab": {}
      },
      "source": [
        "def maxpooling2d(input_mat, s):\n",
        "  #checking if the matrix is square\n",
        "  try:\n",
        "    if square(input_mat) == False:\n",
        "      raise NotSquare(\"input_mat\")\n",
        "  except NotSquare as e:\n",
        "    print(e.message)\n",
        "    return []\n",
        "  \n",
        "  #now check if input > kernel\n",
        "  try:\n",
        "    if len(input_mat) < s or len(input_mat[0]) < s:\n",
        "      raise KernelTooLarge(\"ERROR: window size is larger than the input matrix.\")\n",
        "  except KernelTooLarge as e:\n",
        "    print(e.message)\n",
        "    return []\n",
        "\n",
        "  #no exceptions, so maxpool\n",
        "  else:\n",
        "    out_size = len(input_mat[0]) - s \n",
        "    output_mat = np.zeros((out_size, out_size))\n",
        "\n",
        "    #maxpool2d\n",
        "    for x in range(out_size):\n",
        "      row = np.zeros(out_size)\n",
        "      for y in range(out_size):\n",
        "        maximum = 0\n",
        "        for kx in range(s):\n",
        "          for ky in range(s):\n",
        "            maximum = max(input_mat[kx+(x*s)][ky+(y*s)], maximum)\n",
        "        row[y] = maximum\n",
        "      output_mat[x] = row\n",
        "    return output_mat"
      ],
      "execution_count": 0,
      "outputs": []
    },
    {
      "cell_type": "markdown",
      "metadata": {
        "id": "nsiUCCWnMGlf",
        "colab_type": "text"
      },
      "source": [
        "Below are the TA-created test cases:\n",
        "\n",
        "I edited the 2nd test case, because the problem 2 description specifically said that the matrices would be square. This one was not, but had an expected matrix so I set that to `[]` instead like the expected output for the \"kernel too large\" error from the first problem.\n",
        "\n",
        "I also added some newlines."
      ]
    },
    {
      "cell_type": "code",
      "metadata": {
        "id": "z7-ISLP9J00I",
        "colab_type": "code",
        "colab": {
          "base_uri": "https://localhost:8080/",
          "height": 153
        },
        "outputId": "64e561b3-7306-4884-e185-2947ead29517"
      },
      "source": [
        "import skimage.measure\n",
        "\n",
        "input_mat = []\n",
        "expected_mat = []\n",
        "s = []\n",
        "input_mat.append(np.array([[1, 2, 1, 2],\n",
        "                      [2, 4, 2, 1],\n",
        "                      [1, 2, 4, 2],\n",
        "                      [2, 1, 2, 1]]))\n",
        "s.append(2)\n",
        "\n",
        "expected_mat.append(np.array([[4, 2],\n",
        "                                [2, 4]]))\n",
        "\n",
        "input_mat.append(np.array([[1, 2, 1, 2, 4, 5],\n",
        "                      [2, 4, 2, 1, 0, 3],\n",
        "                      [1, 2, 4, 2, 4, 5],\n",
        "                      [2, 1, 2, 1, 2, 1],\n",
        "                      [1, 1, 2, 3, 1, 2]]))\n",
        "s.append(2)\n",
        "\n",
        "#expected_mat.append([[4, 2, 5],\n",
        "# [2, 4, 5],\n",
        "# [1, 3, 2]])\n",
        "expected_mat.append([])\n",
        "\n",
        "\n",
        "\n",
        "for i in range(len(input_mat)):\n",
        "  # uncomment top line and comment second line to test code\n",
        "  output_mat = maxpooling2d(input_mat[i], s[i])\n",
        "  #output_mat = skimage.measure.block_reduce(input_mat[i], (s[i],s[i]), np.max)\n",
        "\n",
        "  print(output_mat)\n",
        "\n",
        "  if np.array_equal(output_mat, expected_mat[i]):\n",
        "    print(\"Correct output!\\n\")\n",
        "  else:\n",
        "    print(\"Incorrect output!\\n\")\n"
      ],
      "execution_count": 314,
      "outputs": [
        {
          "output_type": "stream",
          "text": [
            "[[4. 2.]\n",
            " [2. 4.]]\n",
            "Correct output!\n",
            "\n",
            "ERROR:input_mat is not square.\n",
            "[]\n",
            "Correct output!\n",
            "\n"
          ],
          "name": "stdout"
        }
      ]
    },
    {
      "cell_type": "markdown",
      "metadata": {
        "id": "0jpLes5euijZ",
        "colab_type": "text"
      },
      "source": [
        "##Sources\n",
        "\n",
        "Used to learn how to flip a numpy array:\n",
        "https://www.geeksforgeeks.org/numpy-flip-python/\n",
        "\n",
        "TA test case location: https://colab.research.google.com/drive/1MIoNq4_xglLesBF1kdWJelP2CmdPuYbv\n",
        "\n",
        "I also referenced **Deep Learning with Python** Chapter 5 to learn about convolution and max pooling.\n",
        "\n",
        "Convolution visualization: https://github.com/schneider128k/machine_learning_course/blob/master/slides/images/convolution_overview.gif\n",
        "\n",
        "Max pooling visualization: https://github.com/schneider128k/machine_learning_course/blob/master/slides/images/maxpool_animation.gif"
      ]
    }
  ]
}